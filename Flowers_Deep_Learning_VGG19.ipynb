{
  "nbformat": 4,
  "nbformat_minor": 0,
  "metadata": {
    "colab": {
      "name": "Copy of Flowers - Deep Learning -VGG19.ipynb",
      "provenance": [],
      "collapsed_sections": []
    },
    "kernelspec": {
      "name": "python3",
      "display_name": "Python 3"
    },
    "accelerator": "GPU"
  },
  "cells": [
    {
      "cell_type": "code",
      "metadata": {
        "id": "aoFGHXWzlbD6",
        "colab_type": "code",
        "colab": {
          "base_uri": "https://localhost:8080/",
          "height": 102
        },
        "outputId": "07e23c19-307d-47b8-c4fb-b63c9c4feb33"
      },
      "source": [
        "! pip install pandas"
      ],
      "execution_count": 53,
      "outputs": [
        {
          "output_type": "stream",
          "text": [
            "Requirement already satisfied: pandas in /usr/local/lib/python3.6/dist-packages (1.0.5)\n",
            "Requirement already satisfied: pytz>=2017.2 in /usr/local/lib/python3.6/dist-packages (from pandas) (2018.9)\n",
            "Requirement already satisfied: python-dateutil>=2.6.1 in /usr/local/lib/python3.6/dist-packages (from pandas) (2.8.1)\n",
            "Requirement already satisfied: numpy>=1.13.3 in /usr/local/lib/python3.6/dist-packages (from pandas) (1.18.5)\n",
            "Requirement already satisfied: six>=1.5 in /usr/local/lib/python3.6/dist-packages (from python-dateutil>=2.6.1->pandas) (1.15.0)\n"
          ],
          "name": "stdout"
        }
      ]
    },
    {
      "cell_type": "code",
      "metadata": {
        "id": "pAGG6tmdVljX",
        "colab_type": "code",
        "colab": {
          "base_uri": "https://localhost:8080/",
          "height": 666
        },
        "outputId": "814addb9-cc34-4932-c980-d6a979fad307"
      },
      "source": [
        "! pip install tensorflow-gpu"
      ],
      "execution_count": 54,
      "outputs": [
        {
          "output_type": "stream",
          "text": [
            "Requirement already satisfied: tensorflow-gpu in /usr/local/lib/python3.6/dist-packages (2.3.0)\n",
            "Requirement already satisfied: scipy==1.4.1 in /usr/local/lib/python3.6/dist-packages (from tensorflow-gpu) (1.4.1)\n",
            "Requirement already satisfied: astunparse==1.6.3 in /usr/local/lib/python3.6/dist-packages (from tensorflow-gpu) (1.6.3)\n",
            "Requirement already satisfied: tensorflow-estimator<2.4.0,>=2.3.0 in /usr/local/lib/python3.6/dist-packages (from tensorflow-gpu) (2.3.0)\n",
            "Requirement already satisfied: gast==0.3.3 in /usr/local/lib/python3.6/dist-packages (from tensorflow-gpu) (0.3.3)\n",
            "Requirement already satisfied: absl-py>=0.7.0 in /usr/local/lib/python3.6/dist-packages (from tensorflow-gpu) (0.8.1)\n",
            "Requirement already satisfied: termcolor>=1.1.0 in /usr/local/lib/python3.6/dist-packages (from tensorflow-gpu) (1.1.0)\n",
            "Requirement already satisfied: opt-einsum>=2.3.2 in /usr/local/lib/python3.6/dist-packages (from tensorflow-gpu) (3.3.0)\n",
            "Requirement already satisfied: numpy<1.19.0,>=1.16.0 in /usr/local/lib/python3.6/dist-packages (from tensorflow-gpu) (1.18.5)\n",
            "Requirement already satisfied: grpcio>=1.8.6 in /usr/local/lib/python3.6/dist-packages (from tensorflow-gpu) (1.31.0)\n",
            "Requirement already satisfied: protobuf>=3.9.2 in /usr/local/lib/python3.6/dist-packages (from tensorflow-gpu) (3.12.4)\n",
            "Requirement already satisfied: tensorboard<3,>=2.3.0 in /usr/local/lib/python3.6/dist-packages (from tensorflow-gpu) (2.3.0)\n",
            "Requirement already satisfied: six>=1.12.0 in /usr/local/lib/python3.6/dist-packages (from tensorflow-gpu) (1.15.0)\n",
            "Requirement already satisfied: google-pasta>=0.1.8 in /usr/local/lib/python3.6/dist-packages (from tensorflow-gpu) (0.2.0)\n",
            "Requirement already satisfied: wheel>=0.26 in /usr/local/lib/python3.6/dist-packages (from tensorflow-gpu) (0.35.1)\n",
            "Requirement already satisfied: keras-preprocessing<1.2,>=1.1.1 in /usr/local/lib/python3.6/dist-packages (from tensorflow-gpu) (1.1.2)\n",
            "Requirement already satisfied: wrapt>=1.11.1 in /usr/local/lib/python3.6/dist-packages (from tensorflow-gpu) (1.12.1)\n",
            "Requirement already satisfied: h5py<2.11.0,>=2.10.0 in /usr/local/lib/python3.6/dist-packages (from tensorflow-gpu) (2.10.0)\n",
            "Requirement already satisfied: setuptools in /usr/local/lib/python3.6/dist-packages (from protobuf>=3.9.2->tensorflow-gpu) (49.6.0)\n",
            "Requirement already satisfied: werkzeug>=0.11.15 in /usr/local/lib/python3.6/dist-packages (from tensorboard<3,>=2.3.0->tensorflow-gpu) (1.0.1)\n",
            "Requirement already satisfied: markdown>=2.6.8 in /usr/local/lib/python3.6/dist-packages (from tensorboard<3,>=2.3.0->tensorflow-gpu) (3.2.2)\n",
            "Requirement already satisfied: tensorboard-plugin-wit>=1.6.0 in /usr/local/lib/python3.6/dist-packages (from tensorboard<3,>=2.3.0->tensorflow-gpu) (1.7.0)\n",
            "Requirement already satisfied: requests<3,>=2.21.0 in /usr/local/lib/python3.6/dist-packages (from tensorboard<3,>=2.3.0->tensorflow-gpu) (2.23.0)\n",
            "Requirement already satisfied: google-auth-oauthlib<0.5,>=0.4.1 in /usr/local/lib/python3.6/dist-packages (from tensorboard<3,>=2.3.0->tensorflow-gpu) (0.4.1)\n",
            "Requirement already satisfied: google-auth<2,>=1.6.3 in /usr/local/lib/python3.6/dist-packages (from tensorboard<3,>=2.3.0->tensorflow-gpu) (1.17.2)\n",
            "Requirement already satisfied: importlib-metadata; python_version < \"3.8\" in /usr/local/lib/python3.6/dist-packages (from markdown>=2.6.8->tensorboard<3,>=2.3.0->tensorflow-gpu) (1.7.0)\n",
            "Requirement already satisfied: urllib3!=1.25.0,!=1.25.1,<1.26,>=1.21.1 in /usr/local/lib/python3.6/dist-packages (from requests<3,>=2.21.0->tensorboard<3,>=2.3.0->tensorflow-gpu) (1.24.3)\n",
            "Requirement already satisfied: certifi>=2017.4.17 in /usr/local/lib/python3.6/dist-packages (from requests<3,>=2.21.0->tensorboard<3,>=2.3.0->tensorflow-gpu) (2020.6.20)\n",
            "Requirement already satisfied: chardet<4,>=3.0.2 in /usr/local/lib/python3.6/dist-packages (from requests<3,>=2.21.0->tensorboard<3,>=2.3.0->tensorflow-gpu) (3.0.4)\n",
            "Requirement already satisfied: idna<3,>=2.5 in /usr/local/lib/python3.6/dist-packages (from requests<3,>=2.21.0->tensorboard<3,>=2.3.0->tensorflow-gpu) (2.10)\n",
            "Requirement already satisfied: requests-oauthlib>=0.7.0 in /usr/local/lib/python3.6/dist-packages (from google-auth-oauthlib<0.5,>=0.4.1->tensorboard<3,>=2.3.0->tensorflow-gpu) (1.3.0)\n",
            "Requirement already satisfied: rsa<5,>=3.1.4; python_version >= \"3\" in /usr/local/lib/python3.6/dist-packages (from google-auth<2,>=1.6.3->tensorboard<3,>=2.3.0->tensorflow-gpu) (4.6)\n",
            "Requirement already satisfied: cachetools<5.0,>=2.0.0 in /usr/local/lib/python3.6/dist-packages (from google-auth<2,>=1.6.3->tensorboard<3,>=2.3.0->tensorflow-gpu) (4.1.1)\n",
            "Requirement already satisfied: pyasn1-modules>=0.2.1 in /usr/local/lib/python3.6/dist-packages (from google-auth<2,>=1.6.3->tensorboard<3,>=2.3.0->tensorflow-gpu) (0.2.8)\n",
            "Requirement already satisfied: zipp>=0.5 in /usr/local/lib/python3.6/dist-packages (from importlib-metadata; python_version < \"3.8\"->markdown>=2.6.8->tensorboard<3,>=2.3.0->tensorflow-gpu) (3.1.0)\n",
            "Requirement already satisfied: oauthlib>=3.0.0 in /usr/local/lib/python3.6/dist-packages (from requests-oauthlib>=0.7.0->google-auth-oauthlib<0.5,>=0.4.1->tensorboard<3,>=2.3.0->tensorflow-gpu) (3.1.0)\n",
            "Requirement already satisfied: pyasn1>=0.1.3 in /usr/local/lib/python3.6/dist-packages (from rsa<5,>=3.1.4; python_version >= \"3\"->google-auth<2,>=1.6.3->tensorboard<3,>=2.3.0->tensorflow-gpu) (0.4.8)\n"
          ],
          "name": "stdout"
        }
      ]
    },
    {
      "cell_type": "code",
      "metadata": {
        "id": "glBoKVQmVqkj",
        "colab_type": "code",
        "colab": {
          "base_uri": "https://localhost:8080/",
          "height": 119
        },
        "outputId": "fff260bf-4b21-4c3d-d7cf-cdeb780f809f"
      },
      "source": [
        "!pip install keras"
      ],
      "execution_count": 55,
      "outputs": [
        {
          "output_type": "stream",
          "text": [
            "Requirement already satisfied: keras in /usr/local/lib/python3.6/dist-packages (2.4.3)\n",
            "Requirement already satisfied: pyyaml in /usr/local/lib/python3.6/dist-packages (from keras) (3.13)\n",
            "Requirement already satisfied: numpy>=1.9.1 in /usr/local/lib/python3.6/dist-packages (from keras) (1.18.5)\n",
            "Requirement already satisfied: h5py in /usr/local/lib/python3.6/dist-packages (from keras) (2.10.0)\n",
            "Requirement already satisfied: scipy>=0.14 in /usr/local/lib/python3.6/dist-packages (from keras) (1.4.1)\n",
            "Requirement already satisfied: six in /usr/local/lib/python3.6/dist-packages (from h5py->keras) (1.15.0)\n"
          ],
          "name": "stdout"
        }
      ]
    },
    {
      "cell_type": "code",
      "metadata": {
        "id": "s6aVyGnP1qz_",
        "colab_type": "code",
        "colab": {
          "base_uri": "https://localhost:8080/",
          "height": 68
        },
        "outputId": "b51fea9c-680a-4a06-f7b2-b4c803930b05"
      },
      "source": [
        "import matplotlib.pylab as plt\n",
        "import numpy as np\n",
        "import tensorflow_hub as hub\n",
        "import tensorflow as tf\n",
        "print(\"TF version:\", tf.__version__)\n",
        "print(\"Hub version:\", hub.__version__)\n",
        "print(\"GPU is\", \"available\" if tf.test.is_gpu_available() else \"NOT AVAILABLE\")"
      ],
      "execution_count": 56,
      "outputs": [
        {
          "output_type": "stream",
          "text": [
            "TF version: 2.3.0\n",
            "Hub version: 0.9.0\n",
            "GPU is available\n"
          ],
          "name": "stdout"
        }
      ]
    },
    {
      "cell_type": "code",
      "metadata": {
        "id": "QlEmywnUVcAG",
        "colab_type": "code",
        "colab": {}
      },
      "source": [
        "from tensorflow.keras.layers import Input, Lambda, Dense, Flatten\n",
        "from tensorflow.keras.models import Model\n",
        "from tensorflow.keras.applications.resnet50 import ResNet50\n",
        "#from tensorflow.keras.applications.resnet152V2 import ResNet152V2\n",
        "from tensorflow.keras.applications.vgg19 import VGG19\n",
        "from tensorflow.keras.applications.vgg19 import preprocess_input\n",
        "from tensorflow.keras.preprocessing import image\n",
        "from tensorflow.keras.preprocessing.image import ImageDataGenerator,load_img\n",
        "from tensorflow.keras.models import Sequential\n",
        "from glob import glob\n",
        "#from keras.applications.inception_v3 import InceptionV3\n",
        "#from keras.applications.inception_v3 import preprocess_input, decode_predictions"
      ],
      "execution_count": 57,
      "outputs": []
    },
    {
      "cell_type": "code",
      "metadata": {
        "id": "D_q-cWiWSn9t",
        "colab_type": "code",
        "colab": {}
      },
      "source": [
        "from sklearn.utils import shuffle\n",
        "from sklearn.metrics import classification_report\n",
        "from sklearn.model_selection import train_test_split\n",
        "from sklearn.metrics import confusion_matrix,roc_curve,auc,accuracy_score"
      ],
      "execution_count": 58,
      "outputs": []
    },
    {
      "cell_type": "code",
      "metadata": {
        "id": "nc01YyZBTs98",
        "colab_type": "code",
        "colab": {
          "base_uri": "https://localhost:8080/",
          "height": 34
        },
        "outputId": "5f221c4a-b054-4b08-d5d3-a796ea3b594e"
      },
      "source": [
        "from google.colab import drive\n",
        "drive.mount('/content/drive')"
      ],
      "execution_count": 59,
      "outputs": [
        {
          "output_type": "stream",
          "text": [
            "Drive already mounted at /content/drive; to attempt to forcibly remount, call drive.mount(\"/content/drive\", force_remount=True).\n"
          ],
          "name": "stdout"
        }
      ]
    },
    {
      "cell_type": "markdown",
      "metadata": {
        "id": "BxSFLC2x1_BI",
        "colab_type": "text"
      },
      "source": [
        "# New Section"
      ]
    },
    {
      "cell_type": "code",
      "metadata": {
        "id": "QUdhAu9bD7Xj",
        "colab_type": "code",
        "colab": {}
      },
      "source": [
        "IMAGE_SIZE = [224, 224]\n",
        "\n",
        "train_data = '/content/drive/My Drive/Colab Notebooks/Flowers'"
      ],
      "execution_count": 60,
      "outputs": []
    },
    {
      "cell_type": "code",
      "metadata": {
        "id": "vqTBiC9L9vDM",
        "colab_type": "code",
        "colab": {}
      },
      "source": [
        "vgg=VGG19(input_shape=IMAGE_SIZE + [3], weights='imagenet', include_top=False)"
      ],
      "execution_count": 61,
      "outputs": []
    },
    {
      "cell_type": "code",
      "metadata": {
        "id": "IcJJmZksaqT1",
        "colab_type": "code",
        "colab": {}
      },
      "source": [
        "for layer in vgg.layers:\n",
        "        layer.trainable = False\n"
      ],
      "execution_count": 62,
      "outputs": []
    },
    {
      "cell_type": "code",
      "metadata": {
        "id": "hBrLXG1WNiYN",
        "colab_type": "code",
        "colab": {
          "base_uri": "https://localhost:8080/",
          "height": 34
        },
        "outputId": "9417e3a4-0dcb-42ce-82b0-6395ceee4799"
      },
      "source": [
        "# useful for getting number of output classes\n",
        "folders = glob('/content/drive/My Drive/Colab Notebooks/Flowers/*')\n",
        "len(folders)"
      ],
      "execution_count": 63,
      "outputs": [
        {
          "output_type": "execute_result",
          "data": {
            "text/plain": [
              "5"
            ]
          },
          "metadata": {
            "tags": []
          },
          "execution_count": 63
        }
      ]
    },
    {
      "cell_type": "code",
      "metadata": {
        "id": "DwHaqxyeSCVX",
        "colab_type": "code",
        "colab": {}
      },
      "source": [
        "# our layers - you can add more if you want\n",
        "\n",
        "x = Flatten()(vgg.output)"
      ],
      "execution_count": 64,
      "outputs": []
    },
    {
      "cell_type": "code",
      "metadata": {
        "id": "SEH6F79lWpGL",
        "colab_type": "code",
        "colab": {}
      },
      "source": [
        "prediction=Dense(len(folders), activation='softmax')(x)\n"
      ],
      "execution_count": 65,
      "outputs": []
    },
    {
      "cell_type": "code",
      "metadata": {
        "id": "Sni7zmuNWq3X",
        "colab_type": "code",
        "colab": {}
      },
      "source": [
        "model = Model(inputs=vgg.input, outputs=prediction)"
      ],
      "execution_count": 66,
      "outputs": []
    },
    {
      "cell_type": "code",
      "metadata": {
        "id": "kdK7udMoWsmv",
        "colab_type": "code",
        "colab": {
          "base_uri": "https://localhost:8080/",
          "height": 969
        },
        "outputId": "d2bc155f-a9b7-4d7c-b3ce-95221bdb8cb7"
      },
      "source": [
        "\n",
        "# view the structure of the model\n",
        "model.summary()\n"
      ],
      "execution_count": 67,
      "outputs": [
        {
          "output_type": "stream",
          "text": [
            "Model: \"functional_3\"\n",
            "_________________________________________________________________\n",
            "Layer (type)                 Output Shape              Param #   \n",
            "=================================================================\n",
            "input_2 (InputLayer)         [(None, 224, 224, 3)]     0         \n",
            "_________________________________________________________________\n",
            "block1_conv1 (Conv2D)        (None, 224, 224, 64)      1792      \n",
            "_________________________________________________________________\n",
            "block1_conv2 (Conv2D)        (None, 224, 224, 64)      36928     \n",
            "_________________________________________________________________\n",
            "block1_pool (MaxPooling2D)   (None, 112, 112, 64)      0         \n",
            "_________________________________________________________________\n",
            "block2_conv1 (Conv2D)        (None, 112, 112, 128)     73856     \n",
            "_________________________________________________________________\n",
            "block2_conv2 (Conv2D)        (None, 112, 112, 128)     147584    \n",
            "_________________________________________________________________\n",
            "block2_pool (MaxPooling2D)   (None, 56, 56, 128)       0         \n",
            "_________________________________________________________________\n",
            "block3_conv1 (Conv2D)        (None, 56, 56, 256)       295168    \n",
            "_________________________________________________________________\n",
            "block3_conv2 (Conv2D)        (None, 56, 56, 256)       590080    \n",
            "_________________________________________________________________\n",
            "block3_conv3 (Conv2D)        (None, 56, 56, 256)       590080    \n",
            "_________________________________________________________________\n",
            "block3_conv4 (Conv2D)        (None, 56, 56, 256)       590080    \n",
            "_________________________________________________________________\n",
            "block3_pool (MaxPooling2D)   (None, 28, 28, 256)       0         \n",
            "_________________________________________________________________\n",
            "block4_conv1 (Conv2D)        (None, 28, 28, 512)       1180160   \n",
            "_________________________________________________________________\n",
            "block4_conv2 (Conv2D)        (None, 28, 28, 512)       2359808   \n",
            "_________________________________________________________________\n",
            "block4_conv3 (Conv2D)        (None, 28, 28, 512)       2359808   \n",
            "_________________________________________________________________\n",
            "block4_conv4 (Conv2D)        (None, 28, 28, 512)       2359808   \n",
            "_________________________________________________________________\n",
            "block4_pool (MaxPooling2D)   (None, 14, 14, 512)       0         \n",
            "_________________________________________________________________\n",
            "block5_conv1 (Conv2D)        (None, 14, 14, 512)       2359808   \n",
            "_________________________________________________________________\n",
            "block5_conv2 (Conv2D)        (None, 14, 14, 512)       2359808   \n",
            "_________________________________________________________________\n",
            "block5_conv3 (Conv2D)        (None, 14, 14, 512)       2359808   \n",
            "_________________________________________________________________\n",
            "block5_conv4 (Conv2D)        (None, 14, 14, 512)       2359808   \n",
            "_________________________________________________________________\n",
            "block5_pool (MaxPooling2D)   (None, 7, 7, 512)         0         \n",
            "_________________________________________________________________\n",
            "flatten_1 (Flatten)          (None, 25088)             0         \n",
            "_________________________________________________________________\n",
            "dense_1 (Dense)              (None, 5)                 125445    \n",
            "=================================================================\n",
            "Total params: 20,149,829\n",
            "Trainable params: 125,445\n",
            "Non-trainable params: 20,024,384\n",
            "_________________________________________________________________\n"
          ],
          "name": "stdout"
        }
      ]
    },
    {
      "cell_type": "code",
      "metadata": {
        "id": "NztyuBQNWvZs",
        "colab_type": "code",
        "colab": {}
      },
      "source": [
        "model.compile(\n",
        "  loss='categorical_crossentropy',\n",
        "  optimizer='adam',\n",
        "  metrics=['accuracy']\n",
        ")\n",
        "\n"
      ],
      "execution_count": 68,
      "outputs": []
    },
    {
      "cell_type": "code",
      "metadata": {
        "id": "8K8WpzgrW3Mn",
        "colab_type": "code",
        "colab": {}
      },
      "source": [
        "from tensorflow.keras.preprocessing.image import ImageDataGenerator\n",
        "\n",
        "image_datagen = ImageDataGenerator(\n",
        "    rescale=1./255, \n",
        "    horizontal_flip = True,\n",
        "    rotation_range=20,\n",
        "    shear_range=0.05,\n",
        "    zoom_range=0.2,\n",
        "    validation_split=0.2\n",
        "    #channel_shift_range=0.1\n",
        ")"
      ],
      "execution_count": 69,
      "outputs": []
    },
    {
      "cell_type": "code",
      "metadata": {
        "id": "VZJzSZ_MW5do",
        "colab_type": "code",
        "colab": {
          "base_uri": "https://localhost:8080/",
          "height": 34
        },
        "outputId": "11c21f4e-1f19-4c1b-966c-78993e6e917c"
      },
      "source": [
        "\n",
        "# Make sure you provide the same target size as initialied for the image size\n",
        "training_set = image_datagen.flow_from_directory(train_data,\n",
        "                                                 target_size = (224, 224),\n",
        "                                                 batch_size = 32,\n",
        "                                                 class_mode = 'categorical',\n",
        "                                                 shuffle=True, \n",
        "                                                 seed=42,\n",
        "                                                 subset=\"training\")\n"
      ],
      "execution_count": 70,
      "outputs": [
        {
          "output_type": "stream",
          "text": [
            "Found 3462 images belonging to 5 classes.\n"
          ],
          "name": "stdout"
        }
      ]
    },
    {
      "cell_type": "code",
      "metadata": {
        "id": "QgAX8i3tW7EI",
        "colab_type": "code",
        "colab": {
          "base_uri": "https://localhost:8080/",
          "height": 34
        },
        "outputId": "49d9772c-6835-4b7a-c4be-a886686e77f7"
      },
      "source": [
        "test_set = image_datagen.flow_from_directory(train_data,\n",
        "                                            target_size = (224, 224),\n",
        "                                            batch_size = 32,\n",
        "                                            class_mode = 'categorical',\n",
        "                                             shuffle=True, \n",
        "                                              seed=42,\n",
        "                                             subset=\"validation\")"
      ],
      "execution_count": 71,
      "outputs": [
        {
          "output_type": "stream",
          "text": [
            "Found 861 images belonging to 5 classes.\n"
          ],
          "name": "stdout"
        }
      ]
    },
    {
      "cell_type": "code",
      "metadata": {
        "id": "DdyEv5Q1XeSL",
        "colab_type": "code",
        "colab": {
          "base_uri": "https://localhost:8080/",
          "height": 887
        },
        "outputId": "df3ca726-d586-4f86-9531-83dc7179cd8b"
      },
      "source": [
        "# fit the model\n",
        "# Run the cell. It will take some time to execute\n",
        "r = model.fit_generator(\n",
        "  training_set,\n",
        "  validation_data=test_set,\n",
        "  epochs=25,\n",
        "  shuffle=True,\n",
        "  steps_per_epoch=len(training_set),\n",
        "  validation_steps=len(test_set)\n",
        ")"
      ],
      "execution_count": 72,
      "outputs": [
        {
          "output_type": "stream",
          "text": [
            "Epoch 1/25\n",
            "109/109 [==============================] - 59s 537ms/step - loss: 1.1078 - accuracy: 0.6138 - val_loss: 0.8527 - val_accuracy: 0.7027\n",
            "Epoch 2/25\n",
            "109/109 [==============================] - 58s 536ms/step - loss: 0.6302 - accuracy: 0.7753 - val_loss: 0.6133 - val_accuracy: 0.7793\n",
            "Epoch 3/25\n",
            "109/109 [==============================] - 58s 533ms/step - loss: 0.5414 - accuracy: 0.8108 - val_loss: 0.6232 - val_accuracy: 0.7747\n",
            "Epoch 4/25\n",
            "109/109 [==============================] - 58s 535ms/step - loss: 0.4882 - accuracy: 0.8244 - val_loss: 0.6741 - val_accuracy: 0.7758\n",
            "Epoch 5/25\n",
            "109/109 [==============================] - 58s 534ms/step - loss: 0.4556 - accuracy: 0.8310 - val_loss: 0.5658 - val_accuracy: 0.8200\n",
            "Epoch 6/25\n",
            "109/109 [==============================] - 58s 530ms/step - loss: 0.3709 - accuracy: 0.8692 - val_loss: 0.6451 - val_accuracy: 0.7851\n",
            "Epoch 7/25\n",
            "109/109 [==============================] - 58s 534ms/step - loss: 0.3544 - accuracy: 0.8718 - val_loss: 0.5753 - val_accuracy: 0.8049\n",
            "Epoch 8/25\n",
            "109/109 [==============================] - 58s 533ms/step - loss: 0.3495 - accuracy: 0.8764 - val_loss: 0.6543 - val_accuracy: 0.7921\n",
            "Epoch 9/25\n",
            "109/109 [==============================] - 58s 532ms/step - loss: 0.3421 - accuracy: 0.8781 - val_loss: 0.6899 - val_accuracy: 0.7724\n",
            "Epoch 10/25\n",
            "109/109 [==============================] - 58s 532ms/step - loss: 0.3070 - accuracy: 0.8917 - val_loss: 0.7281 - val_accuracy: 0.7758\n",
            "Epoch 11/25\n",
            "109/109 [==============================] - 58s 534ms/step - loss: 0.2641 - accuracy: 0.9009 - val_loss: 0.7887 - val_accuracy: 0.7526\n",
            "Epoch 12/25\n",
            "109/109 [==============================] - 58s 532ms/step - loss: 0.2820 - accuracy: 0.8920 - val_loss: 0.6853 - val_accuracy: 0.7944\n",
            "Epoch 13/25\n",
            "109/109 [==============================] - 58s 531ms/step - loss: 0.2560 - accuracy: 0.9064 - val_loss: 0.6604 - val_accuracy: 0.8049\n",
            "Epoch 14/25\n",
            "109/109 [==============================] - 58s 533ms/step - loss: 0.2292 - accuracy: 0.9110 - val_loss: 0.7527 - val_accuracy: 0.7526\n",
            "Epoch 15/25\n",
            "109/109 [==============================] - 58s 533ms/step - loss: 0.2435 - accuracy: 0.9131 - val_loss: 0.7610 - val_accuracy: 0.7712\n",
            "Epoch 16/25\n",
            "109/109 [==============================] - 59s 537ms/step - loss: 0.2235 - accuracy: 0.9131 - val_loss: 0.7558 - val_accuracy: 0.7991\n",
            "Epoch 17/25\n",
            "109/109 [==============================] - 58s 533ms/step - loss: 0.2341 - accuracy: 0.9131 - val_loss: 0.7876 - val_accuracy: 0.7828\n",
            "Epoch 18/25\n",
            "109/109 [==============================] - 58s 534ms/step - loss: 0.2064 - accuracy: 0.9229 - val_loss: 0.8119 - val_accuracy: 0.7619\n",
            "Epoch 19/25\n",
            "109/109 [==============================] - 58s 534ms/step - loss: 0.2026 - accuracy: 0.9229 - val_loss: 0.6787 - val_accuracy: 0.8084\n",
            "Epoch 20/25\n",
            "109/109 [==============================] - 58s 533ms/step - loss: 0.1717 - accuracy: 0.9359 - val_loss: 0.6970 - val_accuracy: 0.8130\n",
            "Epoch 21/25\n",
            "109/109 [==============================] - 59s 543ms/step - loss: 0.2012 - accuracy: 0.9269 - val_loss: 0.6750 - val_accuracy: 0.7956\n",
            "Epoch 22/25\n",
            "109/109 [==============================] - 59s 543ms/step - loss: 0.2565 - accuracy: 0.9053 - val_loss: 0.9002 - val_accuracy: 0.7851\n",
            "Epoch 23/25\n",
            "109/109 [==============================] - 60s 550ms/step - loss: 0.1661 - accuracy: 0.9411 - val_loss: 0.7051 - val_accuracy: 0.8037\n",
            "Epoch 24/25\n",
            "109/109 [==============================] - 60s 554ms/step - loss: 0.1441 - accuracy: 0.9489 - val_loss: 0.7069 - val_accuracy: 0.8014\n",
            "Epoch 25/25\n",
            "109/109 [==============================] - 61s 557ms/step - loss: 0.1394 - accuracy: 0.9497 - val_loss: 0.6533 - val_accuracy: 0.8072\n"
          ],
          "name": "stdout"
        }
      ]
    },
    {
      "cell_type": "code",
      "metadata": {
        "id": "b7E0y-IrXh6k",
        "colab_type": "code",
        "colab": {
          "base_uri": "https://localhost:8080/",
          "height": 374
        },
        "outputId": "3ecf3d0b-02ce-4cd3-86a0-4c0eca0f43eb"
      },
      "source": [
        "# plot the loss\n",
        "plt.figure(figsize=(10,6))\n",
        "\n",
        "plt.subplot(1,2,1)\n",
        "plt.plot(r.history['loss'], label='train loss')\n",
        "plt.plot(r.history['val_loss'], label='val loss')\n",
        "plt.legend()\n",
        "plt.savefig('LossVal_loss')\n",
        "\n",
        "# plot the accuracy\n",
        "plt.subplot(1,2,2)\n",
        "plt.plot(r.history['accuracy'], label='train acc')\n",
        "plt.plot(r.history['val_accuracy'], label='val acc')\n",
        "plt.legend()\n",
        "plt.savefig('AccVal_acc')"
      ],
      "execution_count": 73,
      "outputs": [
        {
          "output_type": "display_data",
          "data": {
            "image/png": "[encoded data removed]",
            "text/plain": [
              "<Figure size 720x432 with 2 Axes>"
            ]
          },
          "metadata": {
            "tags": [],
            "needs_background": "light"
          }
        }
      ]
    },
    {
      "cell_type": "code",
      "metadata": {
        "id": "ZDWWX7VfignI",
        "colab_type": "code",
        "colab": {
          "base_uri": "https://localhost:8080/",
          "height": 34
        },
        "outputId": "913fc0c9-5e85-4adf-b47f-9a78a267d0fd"
      },
      "source": [
        "k=r.history['val_accuracy']\n",
        "np.array(k[-1])"
      ],
      "execution_count": 74,
      "outputs": [
        {
          "output_type": "execute_result",
          "data": {
            "text/plain": [
              "array(0.80720091)"
            ]
          },
          "metadata": {
            "tags": []
          },
          "execution_count": 74
        }
      ]
    },
    {
      "cell_type": "code",
      "metadata": {
        "id": "wcs9aWsbXoEV",
        "colab_type": "code",
        "colab": {}
      },
      "source": [
        "# save it as a h5 file\n",
        "\n",
        "\n",
        "from tensorflow.keras.models import load_model\n",
        "\n",
        "model.save('Flowers_model_vgg19.h5')"
      ],
      "execution_count": 75,
      "outputs": []
    },
    {
      "cell_type": "code",
      "metadata": {
        "id": "6DdBnzA0XoVJ",
        "colab_type": "code",
        "colab": {}
      },
      "source": [
        "y_pred = model.predict(test_set)"
      ],
      "execution_count": 76,
      "outputs": []
    },
    {
      "cell_type": "code",
      "metadata": {
        "id": "UR4TSm5UXohy",
        "colab_type": "code",
        "colab": {
          "base_uri": "https://localhost:8080/",
          "height": 238
        },
        "outputId": "53ea7547-1ae3-4043-d6ed-847ed29f4f2f"
      },
      "source": [
        "y_pred"
      ],
      "execution_count": 77,
      "outputs": [
        {
          "output_type": "execute_result",
          "data": {
            "text/plain": [
              "array([[6.29095081e-03, 1.44884884e-01, 2.24388111e-03, 5.78159273e-01,\n",
              "        2.68421024e-01],\n",
              "       [2.35006664e-05, 1.38205469e-05, 9.97702181e-01, 8.89778130e-06,\n",
              "        2.25160713e-03],\n",
              "       [1.99980278e-07, 4.83795645e-07, 1.32340153e-06, 9.99997973e-01,\n",
              "        3.30101706e-08],\n",
              "       ...,\n",
              "       [1.20076336e-04, 1.05472748e-06, 8.85800036e-15, 9.99878883e-01,\n",
              "        1.10780329e-09],\n",
              "       [7.61010405e-03, 2.98992242e-03, 4.80168354e-04, 5.81042022e-02,\n",
              "        9.30815637e-01],\n",
              "       [9.82829034e-01, 1.67145319e-02, 2.91368138e-04, 8.90728825e-06,\n",
              "        1.56169321e-04]], dtype=float32)"
            ]
          },
          "metadata": {
            "tags": []
          },
          "execution_count": 77
        }
      ]
    },
    {
      "cell_type": "code",
      "metadata": {
        "id": "lwgeb8K8X1JP",
        "colab_type": "code",
        "colab": {}
      },
      "source": [
        "\n",
        "import numpy as np\n",
        "y_pred = np.argmax(y_pred, axis=1)"
      ],
      "execution_count": 78,
      "outputs": []
    },
    {
      "cell_type": "code",
      "metadata": {
        "id": "myYj37JXX1Tf",
        "colab_type": "code",
        "colab": {
          "base_uri": "https://localhost:8080/",
          "height": 697
        },
        "outputId": "5e3901a5-d552-46f3-ac92-cf83791fbc16"
      },
      "source": [
        "y_pred"
      ],
      "execution_count": 79,
      "outputs": [
        {
          "output_type": "execute_result",
          "data": {
            "text/plain": [
              "array([3, 2, 3, 2, 1, 1, 3, 2, 1, 2, 0, 0, 1, 1, 1, 2, 1, 4, 0, 4, 0, 4,\n",
              "       4, 2, 4, 0, 2, 1, 4, 1, 4, 0, 1, 2, 2, 4, 3, 3, 2, 4, 4, 0, 0, 1,\n",
              "       2, 0, 1, 4, 0, 1, 1, 0, 4, 1, 1, 0, 0, 1, 2, 1, 4, 4, 0, 4, 1, 1,\n",
              "       0, 1, 3, 4, 4, 1, 4, 0, 3, 4, 4, 2, 4, 1, 3, 4, 4, 4, 0, 3, 0, 4,\n",
              "       3, 2, 2, 3, 0, 3, 2, 0, 2, 1, 4, 0, 4, 0, 4, 4, 4, 0, 3, 3, 0, 2,\n",
              "       2, 2, 0, 3, 2, 1, 0, 0, 2, 2, 1, 0, 1, 0, 3, 1, 4, 3, 3, 4, 1, 2,\n",
              "       1, 1, 1, 0, 1, 3, 4, 2, 0, 3, 2, 0, 4, 3, 0, 1, 4, 2, 0, 4, 1, 1,\n",
              "       4, 4, 0, 1, 2, 0, 1, 2, 3, 0, 0, 2, 1, 1, 0, 4, 2, 3, 4, 3, 1, 2,\n",
              "       2, 0, 0, 4, 0, 4, 0, 2, 1, 1, 3, 3, 4, 2, 0, 3, 4, 3, 0, 0, 0, 4,\n",
              "       1, 1, 0, 0, 0, 4, 2, 2, 4, 4, 2, 1, 0, 3, 2, 4, 1, 0, 0, 0, 3, 0,\n",
              "       2, 4, 4, 1, 0, 0, 2, 1, 3, 1, 1, 0, 4, 0, 1, 1, 4, 3, 1, 3, 1, 4,\n",
              "       0, 3, 4, 0, 1, 1, 4, 1, 0, 3, 2, 0, 0, 1, 0, 0, 3, 3, 0, 1, 0, 4,\n",
              "       1, 0, 2, 2, 4, 0, 2, 4, 4, 4, 2, 4, 0, 3, 4, 1, 1, 4, 3, 0, 1, 4,\n",
              "       1, 1, 0, 0, 3, 3, 4, 4, 1, 1, 1, 1, 0, 1, 3, 0, 2, 4, 3, 1, 4, 3,\n",
              "       1, 4, 1, 3, 2, 3, 4, 0, 3, 2, 0, 0, 3, 2, 2, 4, 2, 1, 0, 3, 2, 4,\n",
              "       1, 3, 1, 4, 0, 1, 1, 0, 4, 3, 3, 3, 3, 3, 0, 0, 1, 1, 1, 1, 3, 4,\n",
              "       0, 0, 2, 4, 3, 1, 0, 2, 2, 3, 1, 3, 2, 0, 4, 0, 4, 4, 1, 4, 0, 0,\n",
              "       3, 4, 2, 4, 3, 4, 2, 4, 2, 2, 1, 2, 0, 1, 1, 4, 0, 0, 1, 4, 2, 0,\n",
              "       4, 1, 1, 3, 1, 2, 4, 2, 2, 3, 4, 4, 1, 3, 4, 3, 1, 2, 4, 4, 1, 0,\n",
              "       2, 4, 4, 1, 3, 4, 1, 3, 3, 3, 1, 0, 2, 1, 3, 4, 1, 2, 2, 0, 0, 3,\n",
              "       0, 4, 4, 1, 3, 3, 3, 2, 3, 4, 0, 1, 3, 4, 1, 2, 3, 2, 0, 0, 1, 2,\n",
              "       1, 1, 0, 1, 2, 4, 4, 4, 3, 4, 0, 0, 2, 1, 3, 0, 2, 1, 2, 4, 2, 1,\n",
              "       2, 4, 0, 2, 2, 4, 1, 3, 1, 2, 4, 3, 4, 1, 2, 2, 1, 3, 1, 1, 2, 1,\n",
              "       4, 1, 1, 0, 4, 1, 0, 1, 1, 1, 2, 4, 3, 3, 1, 2, 4, 4, 3, 0, 2, 2,\n",
              "       0, 1, 0, 4, 3, 1, 4, 1, 1, 2, 1, 0, 1, 1, 4, 0, 2, 3, 4, 2, 0, 1,\n",
              "       2, 2, 4, 0, 1, 4, 1, 0, 4, 0, 0, 3, 1, 1, 1, 1, 1, 0, 4, 3, 3, 4,\n",
              "       1, 1, 2, 0, 4, 2, 3, 2, 3, 2, 0, 4, 1, 1, 3, 2, 4, 1, 4, 3, 1, 4,\n",
              "       2, 4, 4, 1, 1, 1, 1, 3, 1, 3, 0, 1, 3, 4, 0, 0, 2, 4, 1, 2, 1, 0,\n",
              "       2, 2, 0, 4, 1, 1, 1, 1, 3, 3, 4, 4, 1, 2, 4, 0, 1, 2, 0, 1, 1, 2,\n",
              "       2, 4, 0, 4, 0, 3, 3, 3, 3, 3, 4, 1, 3, 4, 4, 2, 2, 0, 4, 1, 1, 3,\n",
              "       0, 4, 2, 1, 4, 4, 1, 1, 1, 1, 2, 3, 0, 3, 1, 3, 0, 1, 0, 1, 1, 1,\n",
              "       0, 4, 0, 1, 4, 0, 1, 0, 1, 4, 3, 0, 0, 1, 0, 1, 1, 2, 3, 4, 2, 4,\n",
              "       1, 4, 4, 0, 4, 1, 4, 3, 4, 0, 0, 2, 2, 4, 2, 3, 0, 2, 0, 3, 1, 2,\n",
              "       4, 1, 0, 2, 4, 3, 0, 1, 1, 1, 1, 1, 4, 3, 1, 4, 4, 0, 0, 1, 4, 4,\n",
              "       4, 4, 0, 1, 3, 0, 2, 0, 3, 1, 3, 0, 0, 4, 0, 1, 4, 3, 2, 2, 1, 0,\n",
              "       1, 0, 2, 0, 0, 0, 1, 1, 1, 2, 1, 0, 3, 1, 4, 1, 0, 3, 4, 1, 3, 2,\n",
              "       3, 1, 0, 0, 1, 3, 2, 3, 0, 4, 4, 0, 2, 1, 2, 3, 1, 2, 4, 4, 0, 1,\n",
              "       4, 4, 3, 3, 0, 1, 1, 2, 0, 4, 1, 3, 4, 0, 0, 0, 1, 4, 4, 1, 0, 0,\n",
              "       1, 4, 2, 1, 3, 0, 1, 1, 3, 4, 0, 1, 0, 2, 1, 1, 4, 1, 0, 4, 4, 1,\n",
              "       3, 4, 0])"
            ]
          },
          "metadata": {
            "tags": []
          },
          "execution_count": 79
        }
      ]
    },
    {
      "cell_type": "code",
      "metadata": {
        "id": "kkNUQNgdPHvh",
        "colab_type": "code",
        "colab": {
          "base_uri": "https://localhost:8080/",
          "height": 34
        },
        "outputId": "7780a3a5-d9f7-47f7-8274-feb21585d0d0"
      },
      "source": [
        "np.array(y_pred==0).sum()"
      ],
      "execution_count": 80,
      "outputs": [
        {
          "output_type": "execute_result",
          "data": {
            "text/plain": [
              "183"
            ]
          },
          "metadata": {
            "tags": []
          },
          "execution_count": 80
        }
      ]
    },
    {
      "cell_type": "code",
      "metadata": {
        "id": "Pki0I5TkX1bG",
        "colab_type": "code",
        "colab": {}
      },
      "source": [
        "from tensorflow.keras.models import load_model\n",
        "from tensorflow.keras.preprocessing import image"
      ],
      "execution_count": 81,
      "outputs": []
    },
    {
      "cell_type": "code",
      "metadata": {
        "id": "0ozZ3kElX1gy",
        "colab_type": "code",
        "colab": {}
      },
      "source": [
        "model=load_model('Flowers_model_vgg19.h5')"
      ],
      "execution_count": 82,
      "outputs": []
    },
    {
      "cell_type": "code",
      "metadata": {
        "id": "prh52jzZX-iC",
        "colab_type": "code",
        "colab": {}
      },
      "source": [
        "img=image.load_img('/content/drive/My Drive/flower-tulip-vector-21117948.jpg',target_size=(224,224))\n"
      ],
      "execution_count": 93,
      "outputs": []
    },
    {
      "cell_type": "code",
      "metadata": {
        "id": "Kenl5EqKwtcN",
        "colab_type": "code",
        "colab": {
          "base_uri": "https://localhost:8080/",
          "height": 241
        },
        "outputId": "818f71c9-5f43-4999-d9b6-ee6e9178a133"
      },
      "source": [
        "img"
      ],
      "execution_count": 94,
      "outputs": [
        {
          "output_type": "execute_result",
          "data": {
            "image/png": "[encoded data removed]",
            "text/plain": [
              "<PIL.Image.Image image mode=RGB size=224x224 at 0x7F70AC639748>"
            ]
          },
          "metadata": {
            "tags": []
          },
          "execution_count": 94
        }
      ]
    },
    {
      "cell_type": "code",
      "metadata": {
        "id": "HZUVTc7DX-la",
        "colab_type": "code",
        "colab": {
          "base_uri": "https://localhost:8080/",
          "height": 850
        },
        "outputId": "5d9fec85-4ca3-47f0-be8b-2f8dab22aed9"
      },
      "source": [
        "y=image.img_to_array(img)\n",
        "y\n"
      ],
      "execution_count": 95,
      "outputs": [
        {
          "output_type": "execute_result",
          "data": {
            "text/plain": [
              "array([[[255., 255., 253.],\n",
              "        [255., 255., 253.],\n",
              "        [255., 255., 253.],\n",
              "        ...,\n",
              "        [255., 255., 253.],\n",
              "        [255., 255., 253.],\n",
              "        [255., 255., 253.]],\n",
              "\n",
              "       [[255., 255., 253.],\n",
              "        [255., 255., 253.],\n",
              "        [255., 255., 253.],\n",
              "        ...,\n",
              "        [255., 255., 253.],\n",
              "        [255., 255., 253.],\n",
              "        [255., 255., 253.]],\n",
              "\n",
              "       [[255., 255., 253.],\n",
              "        [255., 255., 253.],\n",
              "        [255., 255., 253.],\n",
              "        ...,\n",
              "        [255., 255., 253.],\n",
              "        [255., 255., 253.],\n",
              "        [255., 255., 253.]],\n",
              "\n",
              "       ...,\n",
              "\n",
              "       [[ 17.,  18.,  36.],\n",
              "        [ 17.,  18.,  36.],\n",
              "        [ 17.,  18.,  36.],\n",
              "        ...,\n",
              "        [ 17.,  18.,  36.],\n",
              "        [ 17.,  18.,  36.],\n",
              "        [ 17.,  18.,  36.]],\n",
              "\n",
              "       [[ 17.,  18.,  36.],\n",
              "        [ 17.,  18.,  36.],\n",
              "        [ 17.,  18.,  36.],\n",
              "        ...,\n",
              "        [ 17.,  18.,  36.],\n",
              "        [ 17.,  18.,  36.],\n",
              "        [ 17.,  18.,  36.]],\n",
              "\n",
              "       [[ 17.,  18.,  36.],\n",
              "        [ 17.,  18.,  36.],\n",
              "        [ 17.,  18.,  36.],\n",
              "        ...,\n",
              "        [ 17.,  18.,  36.],\n",
              "        [ 17.,  18.,  36.],\n",
              "        [ 17.,  18.,  36.]]], dtype=float32)"
            ]
          },
          "metadata": {
            "tags": []
          },
          "execution_count": 95
        }
      ]
    },
    {
      "cell_type": "code",
      "metadata": {
        "id": "tf-S1PnBYeJN",
        "colab_type": "code",
        "colab": {
          "base_uri": "https://localhost:8080/",
          "height": 34
        },
        "outputId": "7c5fc13e-b012-4703-a579-fe4abc4e3e46"
      },
      "source": [
        "y.shape"
      ],
      "execution_count": 96,
      "outputs": [
        {
          "output_type": "execute_result",
          "data": {
            "text/plain": [
              "(224, 224, 3)"
            ]
          },
          "metadata": {
            "tags": []
          },
          "execution_count": 96
        }
      ]
    },
    {
      "cell_type": "code",
      "metadata": {
        "id": "q7Wy5JxXw1BX",
        "colab_type": "code",
        "colab": {
          "base_uri": "https://localhost:8080/",
          "height": 34
        },
        "outputId": "227c395e-cd48-4c5d-fd15-1fe93c69b57b"
      },
      "source": [
        "y=np.expand_dims(y,axis=0)\n",
        "y.shape"
      ],
      "execution_count": 97,
      "outputs": [
        {
          "output_type": "execute_result",
          "data": {
            "text/plain": [
              "(1, 224, 224, 3)"
            ]
          },
          "metadata": {
            "tags": []
          },
          "execution_count": 97
        }
      ]
    },
    {
      "cell_type": "code",
      "metadata": {
        "id": "o15OTtbLqvLz",
        "colab_type": "code",
        "colab": {}
      },
      "source": [
        ""
      ],
      "execution_count": 97,
      "outputs": []
    },
    {
      "cell_type": "code",
      "metadata": {
        "id": "Lw_Qavl4aTJ2",
        "colab_type": "code",
        "colab": {
          "base_uri": "https://localhost:8080/",
          "height": 34
        },
        "outputId": "89db21d2-7546-4245-a3a3-a5ed70cb6fe8"
      },
      "source": [
        "imgy=preprocess_input(y)\n",
        "imgy.shape"
      ],
      "execution_count": 98,
      "outputs": [
        {
          "output_type": "execute_result",
          "data": {
            "text/plain": [
              "(1, 224, 224, 3)"
            ]
          },
          "metadata": {
            "tags": []
          },
          "execution_count": 98
        }
      ]
    },
    {
      "cell_type": "code",
      "metadata": {
        "id": "QnA-k9rmqxR5",
        "colab_type": "code",
        "colab": {}
      },
      "source": [
        "imgy=imgy/255\n"
      ],
      "execution_count": 99,
      "outputs": []
    },
    {
      "cell_type": "code",
      "metadata": {
        "id": "gSVtt_PTY3IY",
        "colab_type": "code",
        "colab": {
          "base_uri": "https://localhost:8080/",
          "height": 51
        },
        "outputId": "3b252b6d-1b3d-4bd0-8dc3-b602271b71e7"
      },
      "source": [
        "preds= model.predict(imgy)\n",
        "preds\n",
        "\n"
      ],
      "execution_count": 100,
      "outputs": [
        {
          "output_type": "execute_result",
          "data": {
            "text/plain": [
              "array([[5.2428880e-04, 3.6089658e-04, 2.8043183e-05, 1.0579923e-06,\n",
              "        9.9908566e-01]], dtype=float32)"
            ]
          },
          "metadata": {
            "tags": []
          },
          "execution_count": 100
        }
      ]
    },
    {
      "cell_type": "code",
      "metadata": {
        "id": "MuR2FedtY3Qv",
        "colab_type": "code",
        "colab": {
          "base_uri": "https://localhost:8080/",
          "height": 34
        },
        "outputId": "a372bfd7-252a-4574-ae10-6e403246058f"
      },
      "source": [
        "a=np.argmax(preds, axis=1)\n",
        "a"
      ],
      "execution_count": 101,
      "outputs": [
        {
          "output_type": "execute_result",
          "data": {
            "text/plain": [
              "array([4])"
            ]
          },
          "metadata": {
            "tags": []
          },
          "execution_count": 101
        }
      ]
    },
    {
      "cell_type": "code",
      "metadata": {
        "id": "uqOVAwEtY9DX",
        "colab_type": "code",
        "colab": {
          "base_uri": "https://localhost:8080/",
          "height": 34
        },
        "outputId": "e2ec9cee-60c9-4bd5-dd36-2d37f12214ba"
      },
      "source": [
        "if(a==0):\n",
        "    print(\"Daisy\")\n",
        "elif(a==1):\n",
        "    print(\"Dandelion\")\n",
        "elif(a==2):\n",
        "    print(\"Rose\")\n",
        "elif(a==3):\n",
        "    print(\"Sunflower\")\n",
        "else:\n",
        "    print(\"Tulip\")"
      ],
      "execution_count": 102,
      "outputs": [
        {
          "output_type": "stream",
          "text": [
            "Tulip\n"
          ],
          "name": "stdout"
        }
      ]
    },
    {
      "cell_type": "code",
      "metadata": {
        "id": "2XiXgtL3yBXc",
        "colab_type": "code",
        "colab": {}
      },
      "source": [
        ""
      ],
      "execution_count": null,
      "outputs": []
    }
  ]
}